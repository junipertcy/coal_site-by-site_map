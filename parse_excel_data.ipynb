{
 "cells": [
  {
   "cell_type": "code",
   "execution_count": 25,
   "metadata": {},
   "outputs": [],
   "source": [
    "from openpyxl import load_workbook"
   ]
  },
  {
   "cell_type": "code",
   "execution_count": 140,
   "metadata": {},
   "outputs": [],
   "source": [
    "wb = load_workbook(\"dataset/data.xlsx\", read_only=True)\n",
    "wb.get_sheet_names()\n",
    "ws1 = wb['Sheet1']\n",
    "keys = []\n",
    "data_array = []\n",
    "for idx, row in enumerate(ws1.rows):\n",
    "    for i, cell in enumerate(row):\n",
    "        if idx == 0:\n",
    "            keys += [cell.value]\n",
    "        else:\n",
    "            if i == 3:\n",
    "                data[\"geometry\"][\"coordinates\"][1] = cell.value\n",
    "            elif i == 4:\n",
    "                data[\"geometry\"][\"coordinates\"][0] = cell.value\n",
    "            elif i == 13:\n",
    "                data[\"properties\"][keys[i]] = str(cell.value)\n",
    "            elif type(cell.value) is str:\n",
    "                data[\"properties\"][keys[i]] = cell.value.replace(\"\\u3000\", \"; \")\n",
    "            else:\n",
    "                data[\"properties\"][keys[i]] = cell.value\n",
    "    if idx != 0:\n",
    "        data_array += [data]\n",
    "        data = {}\n",
    "        data[\"geometry\"] = {}\n",
    "        data[\"geometry\"][\"coordinates\"] = [0, 0]\n",
    "        data[\"geometry\"][\"type\"] = \"Point\"\n",
    "\n",
    "        data[\"properties\"] = {}\n"
   ]
  },
  {
   "cell_type": "code",
   "execution_count": 141,
   "metadata": {},
   "outputs": [],
   "source": [
    "import json\n",
    "with open('dataset/data.json', 'w') as outfile:  \n",
    "    json.dump(data_array, outfile, indent=4, ensure_ascii=False)"
   ]
  },
  {
   "cell_type": "code",
   "execution_count": null,
   "metadata": {},
   "outputs": [],
   "source": []
  }
 ],
 "metadata": {
  "kernelspec": {
   "display_name": "Python 3 (GP)",
   "language": "python",
   "name": "python3-gp"
  },
  "language_info": {
   "codemirror_mode": {
    "name": "ipython",
    "version": 3
   },
   "file_extension": ".py",
   "mimetype": "text/x-python",
   "name": "python",
   "nbconvert_exporter": "python",
   "pygments_lexer": "ipython3",
   "version": "3.6.3"
  }
 },
 "nbformat": 4,
 "nbformat_minor": 2
}
